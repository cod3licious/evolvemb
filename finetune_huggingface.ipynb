{
 "cells": [
  {
   "cell_type": "code",
   "execution_count": null,
   "metadata": {},
   "outputs": [],
   "source": [
    "import numpy as np\n",
    "from datasets import Dataset\n",
    "from transformers import AutoTokenizer, AutoModelForMaskedLM, DataCollatorForLanguageModeling, Trainer, TrainingArguments\n",
    "\n",
    "%load_ext autoreload\n",
    "%autoreload 2"
   ]
  },
  {
   "cell_type": "code",
   "execution_count": null,
   "metadata": {},
   "outputs": [],
   "source": [
    "def load_nyt_for_finetuning(start_date=\"2019-01-01\", end_date=\"2020-12-31\"):\n",
    "    # read in NYT dataset\n",
    "    sentences = []\n",
    "    with open(\"data/nytimes_dataset.txt\") as f:\n",
    "        for line in f:\n",
    "            d, s = line.strip().split(\"\\t\")\n",
    "            if d < start_date:\n",
    "                continue\n",
    "            elif d > end_date:\n",
    "                break\n",
    "            # some longer words mistakenly can end with \".\" due to the tokenizer; remove this!\n",
    "            # keep single strings since the tokenization is done by the transformer model\n",
    "            sentences.append(\" \".join([w if len(w) <= 3 or not w.endswith(\".\") else w[:-1] for w in s.split()]))\n",
    "    print(\"Dataset contains %i sentences between %s and %s\" % (len(sentences), start_date, end_date))\n",
    "    return sentences"
   ]
  },
  {
   "cell_type": "code",
   "execution_count": null,
   "metadata": {},
   "outputs": [],
   "source": [
    "# load sentences and put into a huggingface dataset\n",
    "sentences = load_nyt_for_finetuning(\"2019-04-01\", \"2020-12-31\")\n",
    "nyt_dataset = Dataset.from_dict({\"text\": sentences})"
   ]
  },
  {
   "cell_type": "code",
   "execution_count": null,
   "metadata": {},
   "outputs": [],
   "source": [
    "# get model-specific tokenizer\n",
    "model_checkpoint = \"bert-base-uncased\"\n",
    "tokenizer = AutoTokenizer.from_pretrained(model_checkpoint, use_fast=True)\n",
    "# tokenize dataset (i.e. the \"text\" column)\n",
    "tokenized_dataset = nyt_dataset.map(lambda x: tokenizer(x[\"text\"]), batched=True, num_proc=4, remove_columns=[\"text\"])\n",
    "# load model\n",
    "model = AutoModelForMaskedLM.from_pretrained(model_checkpoint)\n",
    "# define some stuff for the training\n",
    "data_collator = DataCollatorForLanguageModeling(tokenizer=tokenizer, mlm_probability=0.15)\n",
    "training_args = TrainingArguments(\n",
    "    \"test-clm\",\n",
    "    evaluation_strategy = \"epoch\",\n",
    "    learning_rate=2e-5,\n",
    "    weight_decay=0.01,\n",
    ")\n",
    "trainer = Trainer(\n",
    "    model=model,\n",
    "    args=training_args,\n",
    "    train_dataset=tokenized_dataset,\n",
    "    eval_dataset=tokenized_dataset,\n",
    "    data_collator=data_collator,\n",
    ")\n",
    "# train\n",
    "trainer.train()"
   ]
  },
  {
   "cell_type": "code",
   "execution_count": null,
   "metadata": {},
   "outputs": [],
   "source": [
    "# check results\n",
    "eval_results = trainer.evaluate()\n",
    "print(f\"Perplexity: {np.exp(eval_results['eval_loss']): .2f}\")"
   ]
  },
  {
   "cell_type": "code",
   "execution_count": null,
   "metadata": {},
   "outputs": [],
   "source": [
    "# save model + tokenizer\n",
    "trainer.save_model(\"data/nyt_%s\" % model_checkpoint.split(\"-\")[0])\n",
    "tokenizer.save_pretrained(\"data/nyt_%s\" % model_checkpoint.split(\"-\")[0])"
   ]
  },
  {
   "cell_type": "code",
   "execution_count": null,
   "metadata": {},
   "outputs": [],
   "source": []
  }
 ],
 "metadata": {
  "kernelspec": {
   "display_name": "Python 3",
   "language": "python",
   "name": "python3"
  },
  "language_info": {
   "codemirror_mode": {
    "name": "ipython",
    "version": 3
   },
   "file_extension": ".py",
   "mimetype": "text/x-python",
   "name": "python",
   "nbconvert_exporter": "python",
   "pygments_lexer": "ipython3",
   "version": "3.8.5"
  }
 },
 "nbformat": 4,
 "nbformat_minor": 4
}
